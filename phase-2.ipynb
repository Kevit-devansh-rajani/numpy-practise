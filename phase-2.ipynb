{
 "cells": [
  {
   "cell_type": "markdown",
   "id": "7224e0cb",
   "metadata": {},
   "source": [
    "### Numpy array operations"
   ]
  },
  {
   "cell_type": "code",
   "execution_count": 1,
   "id": "c5a42ef5",
   "metadata": {},
   "outputs": [],
   "source": [
    "import numpy as np"
   ]
  },
  {
   "cell_type": "markdown",
   "id": "801733a5",
   "metadata": {},
   "source": [
    "### Slicing"
   ]
  },
  {
   "cell_type": "code",
   "execution_count": 3,
   "id": "e2b842fa",
   "metadata": {},
   "outputs": [
    {
     "name": "stdout",
     "output_type": "stream",
     "text": [
      "slicing : [2 3]\n",
      "with step : [ 2  4  6  8 10]\n",
      "negative index : 8\n"
     ]
    }
   ],
   "source": [
    "arr = np.array([1,2,3,4,5,6,7,8,9,10])\n",
    "\n",
    "print(f\"slicing : {arr[1:3]}\")\n",
    "print(f\"with step : {arr[1:10:2]}\") # last specified 2 is step\n",
    "print(f\"negative index : {arr[-3]}\")"
   ]
  },
  {
   "cell_type": "markdown",
   "id": "046d097b",
   "metadata": {},
   "source": [
    "### Access element in 2D array"
   ]
  },
  {
   "cell_type": "code",
   "execution_count": 4,
   "id": "582d1894",
   "metadata": {},
   "outputs": [
    {
     "name": "stdout",
     "output_type": "stream",
     "text": [
      "specific element : 6\n",
      "entire row : [4 5 6]\n",
      "entire column : [2 5 8]\n"
     ]
    }
   ],
   "source": [
    "arr_2d = np.array([\n",
    "    [1, 2, 3], \n",
    "    [4, 5, 6],\n",
    "    [7, 8, 9]\n",
    "])\n",
    "\n",
    "print(f\"specific element : {arr_2d[1,2]}\")\n",
    "print(f\"entire row : {arr_2d[1]}\")\n",
    "print(f\"entire column : {arr_2d[:, 1]}\")"
   ]
  },
  {
   "cell_type": "markdown",
   "id": "fe1e3183",
   "metadata": {},
   "source": [
    "### Sorting"
   ]
  },
  {
   "cell_type": "code",
   "execution_count": null,
   "id": "12234f19",
   "metadata": {},
   "outputs": [
    {
     "name": "stdout",
     "output_type": "stream",
     "text": [
      "sorted : [1 2 3 4 5 7]\n",
      "sorted 2d by column(top to bottom) : [[1 1]\n",
      " [2 2]\n",
      " [3 3]]\n",
      "sorted 2d by rows(left to right) : [[1 3]\n",
      " [1 2]\n",
      " [2 3]]\n"
     ]
    }
   ],
   "source": [
    "unsorted_1d = np.array([1, 7, 4, 2, 5, 3])\n",
    "print(f\"sorted : {np.sort(unsorted_1d)}\")\n",
    "\n",
    "unsorted_2d = np.array([\n",
    "    [3,1], [1,2], [2,3] \n",
    "])\n",
    "print(f\"sorted 2d by column(top to bottom) : {np.sort(unsorted_2d, axis=0)}\")  # axis=0 for columns, axis=1 for rows\n",
    "\n",
    "unsorted_2d = np.array([\n",
    "    [3,1], [1,2], [2,3]\n",
    "])\n",
    "print(f\"sorted 2d by rows(left to right) : {np.sort(unsorted_2d, axis=1)}\")"
   ]
  },
  {
   "cell_type": "markdown",
   "id": "3dcafad3",
   "metadata": {},
   "source": [
    "### Filter & Filter with mask"
   ]
  },
  {
   "cell_type": "code",
   "execution_count": 13,
   "id": "233f947a",
   "metadata": {},
   "outputs": [
    {
     "name": "stdout",
     "output_type": "stream",
     "text": [
      "[2 4 6]\n",
      "nums with mask : [4 5 6]\n"
     ]
    }
   ],
   "source": [
    "nums = np.array([1,2,3,4,5,6])\n",
    "\n",
    "even = nums[nums % 2 == 0]  # inner expresion is \"mask\"\n",
    "print(even)\n",
    "\n",
    "# making mask manually\n",
    "mask = nums>3 # store expression\n",
    "print(f\"nums with mask : {nums[mask]}\")"
   ]
  },
  {
   "cell_type": "markdown",
   "id": "e8b2f699",
   "metadata": {},
   "source": [
    "### where() clause"
   ]
  },
  {
   "cell_type": "code",
   "execution_count": 14,
   "id": "28d7d2f9",
   "metadata": {},
   "outputs": [
    {
     "name": "stdout",
     "output_type": "stream",
     "text": [
      "[4 5 6]\n"
     ]
    }
   ],
   "source": [
    "indices = np.where(nums > 3) # similar to mask\n",
    "print(nums[indices])"
   ]
  },
  {
   "cell_type": "code",
   "execution_count": 16,
   "id": "f8d371c2",
   "metadata": {},
   "outputs": [
    {
     "name": "stdout",
     "output_type": "stream",
     "text": [
      "['False' 'False' 'False' 'True' 'True' 'True']\n"
     ]
    }
   ],
   "source": [
    "condition_arr = np.where(nums > 3, \"True\", \"False\") # Condition + values (similar to if-else)\n",
    "print(condition_arr)"
   ]
  },
  {
   "cell_type": "markdown",
   "id": "c0629106",
   "metadata": {},
   "source": [
    "### Adding (concatenate) & Deleting  "
   ]
  },
  {
   "cell_type": "code",
   "execution_count": null,
   "id": "84bb18bc",
   "metadata": {},
   "outputs": [
    {
     "name": "stdout",
     "output_type": "stream",
     "text": [
      "[1 2 3 4]\n"
     ]
    }
   ],
   "source": [
    "arr1 = np.array([1,2])\n",
    "arr2 = np.array([3,4])\n",
    "print(np.concatenate((arr1,arr2)))"
   ]
  },
  {
   "cell_type": "code",
   "execution_count": 24,
   "id": "666fe8b7",
   "metadata": {},
   "outputs": [
    {
     "name": "stdout",
     "output_type": "stream",
     "text": [
      "[1 2 4 5 6]\n"
     ]
    }
   ],
   "source": [
    "arr = np.array([1,2,3,4,5,6])\n",
    "deleted = np.delete(arr, 2) # returns new array after deletion\n",
    "print(deleted)"
   ]
  },
  {
   "cell_type": "markdown",
   "id": "91d04cd7",
   "metadata": {},
   "source": [
    "### Compatibility (Shape of 2 arrays same or not)"
   ]
  },
  {
   "cell_type": "code",
   "execution_count": null,
   "id": "6ce30249",
   "metadata": {},
   "outputs": [
    {
     "name": "stdout",
     "output_type": "stream",
     "text": [
      "complatibility test : True\n"
     ]
    }
   ],
   "source": [
    "a = np.array([1,2])\n",
    "b = np.array([3,4])\n",
    "print(f\"complatibility test : {a.shape == b.shape}\")"
   ]
  },
  {
   "cell_type": "markdown",
   "id": "7d425f5b",
   "metadata": {},
   "source": [
    "### vstack (add rows) & hstack (add columns)"
   ]
  },
  {
   "cell_type": "code",
   "execution_count": 23,
   "id": "a7210cb1",
   "metadata": {},
   "outputs": [
    {
     "name": "stdout",
     "output_type": "stream",
     "text": [
      "Original array : [[1 2]\n",
      " [3 4]]\n",
      "New array after adding row : [[1 2]\n",
      " [3 4]\n",
      " [5 6]]\n",
      "New array after adding column : [[1 2 5]\n",
      " [3 4 6]]\n"
     ]
    }
   ],
   "source": [
    "original_arr = np.array([[1,2],[3,4]])\n",
    "print(f\"Original array : {original_arr}\")\n",
    "\n",
    "new_row = np.array([5,6])\n",
    "print(f\"New array after adding row : {np.vstack((original_arr, new_row))}\")\n",
    "\n",
    "new_col = np.array([[5],[6]])\n",
    "print(f\"New array after adding column : {np.hstack((original_arr, new_col))}\")"
   ]
  }
 ],
 "metadata": {
  "kernelspec": {
   "display_name": "venv (3.10.12)",
   "language": "python",
   "name": "python3"
  },
  "language_info": {
   "codemirror_mode": {
    "name": "ipython",
    "version": 3
   },
   "file_extension": ".py",
   "mimetype": "text/x-python",
   "name": "python",
   "nbconvert_exporter": "python",
   "pygments_lexer": "ipython3",
   "version": "3.10.12"
  }
 },
 "nbformat": 4,
 "nbformat_minor": 5
}
