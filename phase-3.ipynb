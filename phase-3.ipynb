{
 "cells": [
  {
   "cell_type": "markdown",
   "id": "51bed9c0",
   "metadata": {},
   "source": [
    "### Zomato sales analyse"
   ]
  },
  {
   "cell_type": "code",
   "execution_count": 2,
   "id": "4e98894a",
   "metadata": {},
   "outputs": [],
   "source": [
    "import numpy as np\n",
    "import matplotlib.pyplot as plt"
   ]
  },
  {
   "cell_type": "code",
   "execution_count": 11,
   "id": "86d2d11f",
   "metadata": {},
   "outputs": [
    {
     "name": "stdout",
     "output_type": "stream",
     "text": [
      "=== Zomato data sales analysis ===\n",
      "Shape : (5, 5)\n"
     ]
    }
   ],
   "source": [
    "sales_data = np.array([\n",
    "    [1, 1200, 1350, 1500, 1600],\n",
    "    [2, 1100, 1250, 1400, 1550],\n",
    "    [3, 1300, 1450, 1550, 1700],\n",
    "    [4, 1000, 1150, 1300, 1400],\n",
    "    [5, 1250, 1400, 1500, 1650]\n",
    "])\n",
    "\n",
    "print(\"=== Zomato data sales analysis ===\")\n",
    "\n",
    "print(f\"Shape : {np.shape(sales_data)}\")"
   ]
  },
  {
   "cell_type": "code",
   "execution_count": 12,
   "id": "1bfe55e7",
   "metadata": {},
   "outputs": [
    {
     "name": "stdout",
     "output_type": "stream",
     "text": [
      "Data for first 3 restaurants : \n",
      "[[   1 1200 1350 1500 1600]\n",
      " [   2 1100 1250 1400 1550]\n",
      " [   3 1300 1450 1550 1700]]\n"
     ]
    }
   ],
   "source": [
    "# Data for first 3 restaurants \n",
    "print(f\"Data for first 3 restaurants : \\n{sales_data[:3]}\")"
   ]
  },
  {
   "cell_type": "code",
   "execution_count": 19,
   "id": "c2c6eab4",
   "metadata": {},
   "outputs": [
    {
     "name": "stdout",
     "output_type": "stream",
     "text": [
      "Year wise sales per restaurants : [5850 6600 7250 7900]\n"
     ]
    }
   ],
   "source": [
    "# Total sales per year\n",
    "print(f\"Year wise sales per restaurants : {np.sum(sales_data[:,1:], axis=0)}\")  # all rows, excluded rest_id"
   ]
  },
  {
   "cell_type": "code",
   "execution_count": null,
   "id": "57521ee6",
   "metadata": {},
   "outputs": [],
   "source": []
  }
 ],
 "metadata": {
  "kernelspec": {
   "display_name": "venv (3.10.12)",
   "language": "python",
   "name": "python3"
  },
  "language_info": {
   "codemirror_mode": {
    "name": "ipython",
    "version": 3
   },
   "file_extension": ".py",
   "mimetype": "text/x-python",
   "name": "python",
   "nbconvert_exporter": "python",
   "pygments_lexer": "ipython3",
   "version": "3.10.12"
  }
 },
 "nbformat": 4,
 "nbformat_minor": 5
}
