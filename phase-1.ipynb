{
 "cells": [
  {
   "cell_type": "markdown",
   "id": "3f880d63",
   "metadata": {},
   "source": [
    "### Numpy started"
   ]
  },
  {
   "cell_type": "code",
   "execution_count": 1,
   "id": "a4b01210",
   "metadata": {},
   "outputs": [],
   "source": [
    "import numpy as np"
   ]
  },
  {
   "cell_type": "code",
   "execution_count": 2,
   "id": "0aeef430",
   "metadata": {},
   "outputs": [
    {
     "name": "stdout",
     "output_type": "stream",
     "text": [
      "[1 2 3]\n",
      "[[1 2 3]\n",
      " [4 5 6]]\n"
     ]
    }
   ],
   "source": [
    "arr_1d = np.array([1,2,3])\n",
    "print(arr_1d)\n",
    "\n",
    "arr_2d = np.array([[1,2,3], [4,5,6]])\n",
    "print(arr_2d)"
   ]
  },
  {
   "cell_type": "markdown",
   "id": "cfc55015",
   "metadata": {},
   "source": [
    "### Python list v/s Python array(numpy)"
   ]
  },
  {
   "cell_type": "code",
   "execution_count": null,
   "id": "c3f89501",
   "metadata": {},
   "outputs": [
    {
     "name": "stdout",
     "output_type": "stream",
     "text": [
      "[1, 2, 3, 1, 2, 3]\n",
      "[2 4 6]\n",
      "0.06397533416748047\n",
      "0.0034341812133789062\n"
     ]
    }
   ],
   "source": [
    "py_list = [1,2,3]\n",
    "print(py_list*2)\n",
    "\n",
    "np_array = np.array([1,2,3])\n",
    "print(np_array*2)\n",
    "\n",
    "import time\n",
    "\n",
    "start = time.time()\n",
    "py_list = [i*2 for i in range(1000000)]\n",
    "print(time.time() - start)\n",
    "\n",
    "start = time.time()\n",
    "np_array = np.arange(1000000)*2\n",
    "print(time.time() - start)"
   ]
  },
  {
   "cell_type": "markdown",
   "id": "169b4eb5",
   "metadata": {},
   "source": [
    "### Numpy array from scratch"
   ]
  },
  {
   "cell_type": "code",
   "execution_count": null,
   "id": "257672f0",
   "metadata": {},
   "outputs": [
    {
     "name": "stdout",
     "output_type": "stream",
     "text": [
      "[[0. 0.]\n",
      " [0. 0.]]\n",
      "[[1. 1.]\n",
      " [1. 1.]]\n",
      "[[7 7]\n",
      " [7 7]]\n",
      "[1 1]\n",
      "[ 0  2  4  6  8 10]\n"
     ]
    }
   ],
   "source": [
    "zeros = np.zeros((2,2))\n",
    "print(zeros)\n",
    "\n",
    "ones = np.ones((2,2))\n",
    "print(ones)\n",
    "\n",
    "full = np.full((2,2), 7) # give full array of size (2,2) with value 7\n",
    "print(full)\n",
    "\n",
    "random = np.random.randint((2,2))\n",
    "print(random)\n",
    "\n",
    "sequence = np.arange(0,11,2)\n",
    "print(sequence)"
   ]
  },
  {
   "cell_type": "markdown",
   "id": "9bf9e03b",
   "metadata": {},
   "source": [
    "### Vector, Matrices, Transpose"
   ]
  },
  {
   "cell_type": "code",
   "execution_count": 11,
   "id": "a7fe383f",
   "metadata": {},
   "outputs": [
    {
     "name": "stdout",
     "output_type": "stream",
     "text": [
      "[1 2 3]\n",
      "[[1 2 3]\n",
      " [4 5 6]]\n",
      "[[[1 2]\n",
      "  [3 4]]\n",
      "\n",
      " [[5 6]\n",
      "  [7 8]]]\n"
     ]
    }
   ],
   "source": [
    "vector = np.array([1,2,3])\n",
    "print(vector)\n",
    "\n",
    "matrix = np.array([\n",
    "    [1,2,3], [4,5,6]\n",
    "    ])\n",
    "print(matrix)\n",
    "\n",
    "tensor = np.array([\n",
    "    [[1,2],[3,4]],\n",
    "    [[5,6],[7,8]]\n",
    "])\n",
    "print(tensor)"
   ]
  },
  {
   "cell_type": "markdown",
   "id": "ba77bd21",
   "metadata": {},
   "source": [
    "### Array properties"
   ]
  },
  {
   "cell_type": "code",
   "execution_count": null,
   "id": "a50d990c",
   "metadata": {},
   "outputs": [
    {
     "name": "stdout",
     "output_type": "stream",
     "text": [
      "Shape : (2, 3)\n",
      "Dimension : 2\n",
      "Size : 6\n",
      "Data type : int64\n"
     ]
    }
   ],
   "source": [
    "arr = np.array([ [1,2,3], [4,5,6]])\n",
    "\n",
    "print(f\"Shape : {arr.shape}\") # rows x columns\n",
    "print(f\"Dimension : {arr.ndim}\") # 2D array\n",
    "print(f\"Size : {arr.size}\")  # No. of elements\n",
    "print(f\"Data type : {arr.dtype}\") # int64 by default"
   ]
  },
  {
   "cell_type": "markdown",
   "id": "62c2349c",
   "metadata": {},
   "source": [
    "### Array Reshaping"
   ]
  },
  {
   "cell_type": "code",
   "execution_count": null,
   "id": "5881bbf8",
   "metadata": {},
   "outputs": [
    {
     "name": "stdout",
     "output_type": "stream",
     "text": [
      "[ 0  1  2  3  4  5  6  7  8  9 10 11]\n",
      "[[ 0  1  2  3]\n",
      " [ 4  5  6  7]\n",
      " [ 8  9 10 11]]\n",
      "[ 0  1  2  3  4  5  6  7  8  9 10 11]\n",
      "[ 0  1  2  3  4  5  6  7  8  9 10 11]\n",
      "[[ 0  4  8]\n",
      " [ 1  5  9]\n",
      " [ 2  6 10]\n",
      " [ 3  7 11]]\n"
     ]
    }
   ],
   "source": [
    "arr = np.arange(12)\n",
    "print(arr)\n",
    "\n",
    "reshaped = arr.reshape((3,4))\n",
    "print(reshaped)\n",
    "\n",
    "# returns copy of a original array\n",
    "flattened = reshaped.flatten()\n",
    "print(flattened)\n",
    "\n",
    "# returns original insted of copy of original array\n",
    "raveled = reshaped.ravel()\n",
    "print(raveled)\n",
    "\n",
    "transpose = reshaped.T\n",
    "print(transpose)"
   ]
  }
 ],
 "metadata": {
  "kernelspec": {
   "display_name": "venv (3.10.12)",
   "language": "python",
   "name": "python3"
  },
  "language_info": {
   "codemirror_mode": {
    "name": "ipython",
    "version": 3
   },
   "file_extension": ".py",
   "mimetype": "text/x-python",
   "name": "python",
   "nbconvert_exporter": "python",
   "pygments_lexer": "ipython3",
   "version": "3.10.12"
  }
 },
 "nbformat": 4,
 "nbformat_minor": 5
}
